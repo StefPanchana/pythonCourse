{
 "cells": [
  {
   "cell_type": "code",
   "id": "initial_id",
   "metadata": {
    "collapsed": true,
    "ExecuteTime": {
     "end_time": "2024-06-08T18:02:34.036711Z",
     "start_time": "2024-06-08T18:02:32.859220Z"
    }
   },
   "source": [
    "import requests\n",
    "from bs4 import BeautifulSoup\n",
    "import pandas as pd\n",
    "import time"
   ],
   "outputs": [],
   "execution_count": 1
  },
  {
   "metadata": {
    "ExecuteTime": {
     "end_time": "2024-06-08T18:02:38.261403Z",
     "start_time": "2024-06-08T18:02:38.256374Z"
    }
   },
   "cell_type": "code",
   "source": [
    "#Decorador para medir tiempo de ejecución\n",
    "def medir_tiempo(func):\n",
    "    def wrapper(*args, **kwargs):\n",
    "        inicio = time.time()\n",
    "        resultado = func(*args, **kwargs)\n",
    "        fin = time.time()\n",
    "        print(f\"El tiempo de ejecucion de {func.__name__} : es de {fin - inicio:.4f} segundos\")\n",
    "        return resultado\n",
    "\n",
    "    return wrapper"
   ],
   "id": "8e5030a579a4a04a",
   "outputs": [],
   "execution_count": 2
  },
  {
   "metadata": {
    "ExecuteTime": {
     "end_time": "2024-06-08T18:05:00.048571Z",
     "start_time": "2024-06-08T18:05:00.043639Z"
    }
   },
   "cell_type": "code",
   "source": "df = pd.read_csv(\"scraper_products.csv\")",
   "id": "ed728b9ea9bc1edd",
   "outputs": [],
   "execution_count": 10
  },
  {
   "metadata": {
    "ExecuteTime": {
     "end_time": "2024-06-08T18:05:09.330925Z",
     "start_time": "2024-06-08T18:05:09.302246Z"
    }
   },
   "cell_type": "code",
   "source": "df.info()",
   "id": "7353026b28259881",
   "outputs": [
    {
     "name": "stdout",
     "output_type": "stream",
     "text": [
      "<class 'pandas.core.frame.DataFrame'>\n",
      "RangeIndex: 12 entries, 0 to 11\n",
      "Data columns (total 3 columns):\n",
      " #   Column      Non-Null Count  Dtype \n",
      "---  ------      --------------  ----- \n",
      " 0   Unnamed: 0  12 non-null     int64 \n",
      " 1   title       12 non-null     object\n",
      " 2   price       12 non-null     object\n",
      "dtypes: int64(1), object(2)\n",
      "memory usage: 420.0+ bytes\n"
     ]
    }
   ],
   "execution_count": 11
  },
  {
   "metadata": {
    "ExecuteTime": {
     "end_time": "2024-06-08T18:09:28.509608Z",
     "start_time": "2024-06-08T18:09:28.503182Z"
    }
   },
   "cell_type": "code",
   "source": "df[\"price\"] = df[\"price\"].replace(\"[$,]\", \"\", regex=True)",
   "id": "44936de5d4a60466",
   "outputs": [],
   "execution_count": 16
  },
  {
   "metadata": {
    "ExecuteTime": {
     "end_time": "2024-06-08T18:09:30.703843Z",
     "start_time": "2024-06-08T18:09:30.695680Z"
    }
   },
   "cell_type": "code",
   "source": "df.head()",
   "id": "96a526150e738bf9",
   "outputs": [
    {
     "data": {
      "text/plain": [
       "   Unnamed: 0                                              title    price\n",
       "0           0                  Pilas Energeizer AAA x 2 Unidades     2.34\n",
       "1           1  Audífonos Inalámbricos Energy Sistem Style 2 T...    40.90\n",
       "2           2                       Parlante Mini 3 Pro Souncore    60.86\n",
       "3           3   Televisor Samsung The Serif QLED Smart TV 4K 55\"  1303.48\n",
       "4           4                Parlante Energy Sistem Urban 2 Onyx    34.77"
      ],
      "text/html": [
       "<div>\n",
       "<style scoped>\n",
       "    .dataframe tbody tr th:only-of-type {\n",
       "        vertical-align: middle;\n",
       "    }\n",
       "\n",
       "    .dataframe tbody tr th {\n",
       "        vertical-align: top;\n",
       "    }\n",
       "\n",
       "    .dataframe thead th {\n",
       "        text-align: right;\n",
       "    }\n",
       "</style>\n",
       "<table border=\"1\" class=\"dataframe\">\n",
       "  <thead>\n",
       "    <tr style=\"text-align: right;\">\n",
       "      <th></th>\n",
       "      <th>Unnamed: 0</th>\n",
       "      <th>title</th>\n",
       "      <th>price</th>\n",
       "    </tr>\n",
       "  </thead>\n",
       "  <tbody>\n",
       "    <tr>\n",
       "      <th>0</th>\n",
       "      <td>0</td>\n",
       "      <td>Pilas Energeizer AAA x 2 Unidades</td>\n",
       "      <td>2.34</td>\n",
       "    </tr>\n",
       "    <tr>\n",
       "      <th>1</th>\n",
       "      <td>1</td>\n",
       "      <td>Audífonos Inalámbricos Energy Sistem Style 2 T...</td>\n",
       "      <td>40.90</td>\n",
       "    </tr>\n",
       "    <tr>\n",
       "      <th>2</th>\n",
       "      <td>2</td>\n",
       "      <td>Parlante Mini 3 Pro Souncore</td>\n",
       "      <td>60.86</td>\n",
       "    </tr>\n",
       "    <tr>\n",
       "      <th>3</th>\n",
       "      <td>3</td>\n",
       "      <td>Televisor Samsung The Serif QLED Smart TV 4K 55\"</td>\n",
       "      <td>1303.48</td>\n",
       "    </tr>\n",
       "    <tr>\n",
       "      <th>4</th>\n",
       "      <td>4</td>\n",
       "      <td>Parlante Energy Sistem Urban 2 Onyx</td>\n",
       "      <td>34.77</td>\n",
       "    </tr>\n",
       "  </tbody>\n",
       "</table>\n",
       "</div>"
      ]
     },
     "execution_count": 17,
     "metadata": {},
     "output_type": "execute_result"
    }
   ],
   "execution_count": 17
  },
  {
   "metadata": {
    "ExecuteTime": {
     "end_time": "2024-06-08T18:09:48.101987Z",
     "start_time": "2024-06-08T18:09:48.098297Z"
    }
   },
   "cell_type": "code",
   "source": "df['price'] = df['price'].astype(float)",
   "id": "218e8dba20d926b2",
   "outputs": [],
   "execution_count": 18
  },
  {
   "metadata": {
    "ExecuteTime": {
     "end_time": "2024-06-08T18:10:02.800467Z",
     "start_time": "2024-06-08T18:10:02.793594Z"
    }
   },
   "cell_type": "code",
   "source": "df.info()",
   "id": "c5ca68ab9bb61612",
   "outputs": [
    {
     "name": "stdout",
     "output_type": "stream",
     "text": [
      "<class 'pandas.core.frame.DataFrame'>\n",
      "RangeIndex: 12 entries, 0 to 11\n",
      "Data columns (total 3 columns):\n",
      " #   Column      Non-Null Count  Dtype  \n",
      "---  ------      --------------  -----  \n",
      " 0   Unnamed: 0  12 non-null     int64  \n",
      " 1   title       12 non-null     object \n",
      " 2   price       12 non-null     float64\n",
      "dtypes: float64(1), int64(1), object(1)\n",
      "memory usage: 420.0+ bytes\n"
     ]
    }
   ],
   "execution_count": 19
  }
 ],
 "metadata": {
  "kernelspec": {
   "display_name": "Python 3",
   "language": "python",
   "name": "python3"
  },
  "language_info": {
   "codemirror_mode": {
    "name": "ipython",
    "version": 2
   },
   "file_extension": ".py",
   "mimetype": "text/x-python",
   "name": "python",
   "nbconvert_exporter": "python",
   "pygments_lexer": "ipython2",
   "version": "2.7.6"
  }
 },
 "nbformat": 4,
 "nbformat_minor": 5
}
